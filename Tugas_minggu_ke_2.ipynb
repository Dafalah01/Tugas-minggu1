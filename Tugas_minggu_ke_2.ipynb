{
  "cells": [
    {
      "cell_type": "code",
      "execution_count": null,
      "metadata": {
        "colab": {
          "base_uri": "https://localhost:8080/"
        },
        "id": "FX_8t9qOVNwO",
        "outputId": "8ee46d1d-a239-4748-9ba0-4916bce561ea"
      },
      "outputs": [
        {
          "name": "stdout",
          "output_type": "stream",
          "text": [
            "Panjang = 20.5\n",
            "Lebar = 25\n",
            "Tinggi = 10\n",
            "Keliling = 91.0\n",
            "Volume = 5125.0\n"
          ]
        }
      ],
      "source": [
        "#Tugas 1\n",
        "panjang = 20.5\n",
        "lebar = 25\n",
        "tinggi = 10\n",
        "\n",
        "keliling = 2*(panjang+lebar)\n",
        "luas = panjang*lebar\n",
        "volume = panjang*lebar*tinggi\n",
        "\n",
        "print(\"Panjang = \"+ str(panjang))\n",
        "print(\"Lebar = \" +str(lebar))\n",
        "print(\"Tinggi = \"+str(tinggi))\n",
        "print(\"Keliling = \"+str(keliling))\n",
        "print(\"Volume = \"+str(volume))"
      ]
    },
    {
      "cell_type": "code",
      "execution_count": null,
      "metadata": {
        "colab": {
          "base_uri": "https://localhost:8080/"
        },
        "id": "kl3nOdbYaa06",
        "outputId": "d7c2e41e-17ee-4007-a8ed-b6cddfba37cc"
      },
      "outputs": [
        {
          "name": "stdout",
          "output_type": "stream",
          "text": [
            "Rata-rata nilai Shafira                                 =  80.0\n",
            "Jumlah nilai Hanif dan Andi                             =  310\n",
            "Rata-rata nilai Kalkulus Widya, Dhanar, Hikma, Nedia    =  86.25\n",
            "Rata-rata nilai Statistika Widya, Dhanar, Hikma, Nedia  =  81.25\n",
            "Rata-rata nilai Kalkulus seluruh mahasiswa              =  81.11111111111111\n",
            "Rata-rata nilai Statistika seluruh mahasiswa            =  81.66666666666667\n"
          ]
        }
      ],
      "source": [
        "# Nilai\n",
        "kalkulus = (85, 80, 75, 95, 85, 75, 70, 85, 80)\n",
        "statistika = (75, 90, 80, 80, 85, 90, 75, 85, 75)\n",
        "\n",
        "# Mahasiswa\n",
        "shafira1, amanda1, aditya1, nedia1, widya1, hanif1, andi1, dhanar1, hikma1 = kalkulus\n",
        "shafira2, amanda2, aditya2, nedia2, widya2, hanif2, andi2, dhanar2, hikma2 = statistika\n",
        "\n",
        "# Rumus\n",
        "meanshafira = (shafira1 + shafira2) / 2\n",
        "jhanifandi = hanif1 + hanif2 + andi1 + andi2\n",
        "meankalkuluswidyadhanarhikmanedia = (widya1 + dhanar1 + hikma1 + nedia1) / 4\n",
        "meanstatistikawidyadhanarhikmanedia = (widya2 + dhanar2 + hikma2 + nedia2) / 4\n",
        "meankalkulus = (shafira1 + amanda1 + aditya1 + nedia1 + widya1 + hanif1 + andi1 + dhanar1 + hikma1) / 9\n",
        "meanstatistika = (shafira2 + amanda2 + aditya2 + nedia2 + widya2 + hanif2 + andi2 + dhanar2 + hikma2) / 9\n",
        "\n",
        "# Output\n",
        "print(\"Rata-rata nilai Shafira                                 = \", meanshafira)\n",
        "print(\"Jumlah nilai Hanif dan Andi                             = \", jhanifandi)\n",
        "print(\"Rata-rata nilai Kalkulus Widya, Dhanar, Hikma, Nedia    = \", meankalkuluswidyadhanarhikmanedia)\n",
        "print(\"Rata-rata nilai Statistika Widya, Dhanar, Hikma, Nedia  = \", meanstatistikawidyadhanarhikmanedia)\n",
        "print(\"Rata-rata nilai Kalkulus seluruh mahasiswa              = \", meankalkulus)\n",
        "print(\"Rata-rata nilai Statistika seluruh mahasiswa            = \", meanstatistika)\n"
      ]
    },
    {
      "cell_type": "code",
      "execution_count": null,
      "metadata": {
        "colab": {
          "background_save": true
        },
        "id": "WyHUhkz4qHl5",
        "outputId": "656bf3b7-9148-45a4-a209-08403d9e3111"
      },
      "outputs": [
        {
          "name": "stdout",
          "output_type": "stream",
          "text": [
            "6720000\n"
          ]
        }
      ],
      "source": [
        "agustus = 31\n",
        "kerjaperhari = 8\n",
        "gajiperjam = 30000\n",
        "\n",
        "gajiagustus1 = (agustus-3)*8*30000\n",
        "\n",
        "print(gajiagustus1)"
      ]
    },
    {
      "cell_type": "code",
      "source": [
        "# Input\n",
        "# Data Karyawan\n",
        "jam_kerja_per_hari = 8\n",
        "upah_per_jam = 30000\n",
        "jumlah_hari_kerja_agustus = 28\n",
        "tunjangan_persen = 0.10\n",
        "upah_lembur_per_jam = 10000\n",
        "lembur_jam = 5\n",
        "\n",
        "# Gaji Pokok\n",
        "total_jam_kerja_agustus = jam_kerja_per_hari * jumlah_hari_kerja_agustus\n",
        "gaji_pokok = total_jam_kerja_agustus * upah_per_jam\n",
        "\n",
        "# Tunjangan\n",
        "tunjangan = tunjangan_persen * gaji_pokok\n",
        "# Hitung Gaji Lembur\n",
        "gaji_lembur = lembur_jam * upah_lembur_per_jam\n",
        "\n",
        "# Gaji Total (Gaji Pokok + Tunjangan + Gaji Lembur)\n",
        "gaji_total = gaji_pokok + tunjangan + gaji_lembur\n",
        "\n",
        "# Output\n",
        "print(\"1. Gaji pokok pada bulan Agustus               : Rp\", gaji_pokok)\n",
        "print(\"2. Tunjangan pada bulan Agustus                : Rp\", tunjangan)\n",
        "print(\"3. Total gaji yang diterima pada bulan Agustus : Rp\", gaji_total)\n"
      ],
      "metadata": {
        "colab": {
          "base_uri": "https://localhost:8080/"
        },
        "id": "-nHbsdJBEf7_",
        "outputId": "86c8d1fc-52d7-4f76-fd6f-179f25df7a2f"
      },
      "execution_count": 7,
      "outputs": [
        {
          "output_type": "stream",
          "name": "stdout",
          "text": [
            "1. Gaji pokok pada bulan Agustus               : Rp 6720000\n",
            "2. Tunjangan pada bulan Agustus                : Rp 672000.0\n",
            "3. Total gaji yang diterima pada bulan Agustus : Rp 7442000.0\n"
          ]
        }
      ]
    }
  ],
  "metadata": {
    "colab": {
      "provenance": []
    },
    "kernelspec": {
      "display_name": "Python 3",
      "name": "python3"
    },
    "language_info": {
      "name": "python"
    }
  },
  "nbformat": 4,
  "nbformat_minor": 0
}